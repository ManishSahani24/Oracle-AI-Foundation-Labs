{
 "cells": [
  {
   "cell_type": "markdown",
   "id": "e5b0fd95",
   "metadata": {},
   "source": [
    "### Machine Leaarning Process"
   ]
  }
 ],
 "metadata": {
  "kernelspec": {
   "display_name": "Python 3",
   "language": "python",
   "name": "python3"
  },
  "language_info": {
   "name": "python",
   "version": "3.12.5"
  }
 },
 "nbformat": 4,
 "nbformat_minor": 5
}
