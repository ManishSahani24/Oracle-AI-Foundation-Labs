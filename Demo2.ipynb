{
 "cells": [
  {
   "cell_type": "markdown",
   "id": "e5b0fd95",
   "metadata": {},
   "source": [
    "### Machine Leaarning Process"
   ]
  },
  {
   "cell_type": "code",
   "execution_count": null,
   "id": "74807ea2",
   "metadata": {},
   "outputs": [],
   "source": [
    "import pandas as pd\n",
    "from sklearn.linear_model import LogisticRegression\n",
    "import numpy as np"
   ]
  }
 ],
 "metadata": {
  "kernelspec": {
   "display_name": "Python 3",
   "language": "python",
   "name": "python3"
  },
  "language_info": {
   "name": "python",
   "version": "3.12.5"
  }
 },
 "nbformat": 4,
 "nbformat_minor": 5
}
